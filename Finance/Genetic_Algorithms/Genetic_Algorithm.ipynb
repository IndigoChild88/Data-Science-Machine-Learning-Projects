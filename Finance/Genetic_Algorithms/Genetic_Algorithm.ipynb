{
 "cells": [
  {
   "cell_type": "code",
   "execution_count": null,
   "metadata": {},
   "outputs": [],
   "source": [
    "import pandas as pd"
   ]
  },
  {
   "cell_type": "code",
   "execution_count": null,
   "metadata": {},
   "outputs": [],
   "source": [
    "new_info = pd.read_csv(r\"EUR_USD_H1_5000.csv\")\n",
    "print(new_info[:8])\n",
    "#print(len(new_info))"
   ]
  },
  {
   "cell_type": "code",
   "execution_count": null,
   "metadata": {},
   "outputs": [],
   "source": [
    "# Inputs of the equation.\n",
    "equation_inputs = [1.11851,1.12074,1.12067,1.12057,1.12068,1.12028]\n",
    " # Number of the weights we are looking to optimize.\n",
    "num_weights = 6\n",
    "\n",
    "# Y = w1x1 + w2x2 + w3x3 + w4x4 + w5x5 + w6x6 = 1.12021"
   ]
  },
  {
   "cell_type": "code",
   "execution_count": null,
   "metadata": {},
   "outputs": [],
   "source": [
    "import numpy\n",
    "sol_per_pop = 8\n",
    "# Defining the population size.\n",
    "\n",
    "pop_size = (sol_per_pop,num_weights) # The population will have sol_per_pop chromosome where each chromosome has num_weights genes.\n",
    "\n",
    "#Creating the initial population.\n",
    "\n",
    "new_population = numpy.random.uniform(low=-4.0, high=4.0, size=pop_size)"
   ]
  },
  {
   "cell_type": "code",
   "execution_count": null,
   "metadata": {},
   "outputs": [],
   "source": [
    "# %load ga.py\n",
    "#!/usr/bin/env python\n",
    "\n",
    "# In[1]:\n",
    "\n",
    "\n",
    "import numpy\n",
    "class ga:\n",
    "\n",
    "    def cal_pop_fitness(equation_inputs, pop):\n",
    "        # Calculating the fitness value of each solution in the current population.\n",
    "        # The fitness function caulcuates the sum of products between each input and its corresponding weight.\n",
    "        fitness = numpy.sum(pop*equation_inputs, axis=1)\n",
    "        return fitness\n",
    "\n",
    "    def select_mating_pool(pop, fitness, num_parents):\n",
    "        # Selecting the best individuals in the current generation as parents for producing the offspring of the next generation.\n",
    "        parents = numpy.empty((num_parents, pop.shape[1]))\n",
    "        for parent_num in range(num_parents):\n",
    "            max_fitness_idx = numpy.where(fitness == numpy.max(fitness))\n",
    "            max_fitness_idx = max_fitness_idx[0][0]\n",
    "            parents[parent_num, :] = pop[max_fitness_idx, :]\n",
    "            fitness[max_fitness_idx] = -99999999999\n",
    "        return parents\n",
    "\n",
    "    def crossover(parents, offspring_size):\n",
    "        offspring = numpy.empty(offspring_size)\n",
    "        # The point at which crossover takes place between two parents. Usually it is at the center.\n",
    "        crossover_point = numpy.uint8(offspring_size[1]/2)\n",
    "\n",
    "        for k in range(offspring_size[0]):\n",
    "            # Index of the first parent to mate.\n",
    "            parent1_idx = k%parents.shape[0]\n",
    "            # Index of the second parent to mate.\n",
    "            parent2_idx = (k+1)%parents.shape[0]\n",
    "            # The new offspring will have its first half of its genes taken from the first parent.\n",
    "            offspring[k, 0:crossover_point] = parents[parent1_idx, 0:crossover_point]\n",
    "            # The new offspring will have its second half of its genes taken from the second parent.\n",
    "            offspring[k, crossover_point:] = parents[parent2_idx, crossover_point:]\n",
    "        return offspring\n",
    "\n",
    "    def mutation(offspring_crossover):\n",
    "        # Mutation changes a single gene in each offspring randomly.\n",
    "        for idx in range(offspring_crossover.shape[0]):\n",
    "            # The random value to be added to the gene.\n",
    "            random_value = numpy.random.uniform(-1.0, 1.0, 1)\n",
    "            offspring_crossover[idx, 4] = offspring_crossover[idx, 4] + random_value\n",
    "        return offspring_crossover\n",
    "\n",
    "\n",
    "# In[ ]:\n",
    "\n",
    "\n",
    "\n",
    "\n"
   ]
  },
  {
   "cell_type": "code",
   "execution_count": null,
   "metadata": {},
   "outputs": [],
   "source": [
    "\n",
    "num_generations = 5\n",
    "\n",
    "num_parents_mating = 4\n",
    "for generation in range(num_generations):\n",
    "     # Measuring the fitness of each chromosome in the population.\n",
    "     fitness = ga.cal_pop_fitness(equation_inputs, new_population)\n",
    "    # Selecting the best parents in the population for mating.\n",
    "     parents = ga.select_mating_pool(new_population, fitness, \n",
    "                                       num_parents_mating)\n",
    " \n",
    "     # Generating next generation using crossover.\n",
    "     offspring_crossover = ga.crossover(parents,\n",
    "                                        offspring_size=(pop_size[0]-parents.shape[0], num_weights))\n",
    " \n",
    "     # Adding some variations to the offsrping using mutation.\n",
    "     offspring_mutation = ga.mutation(offspring_crossover)\n",
    "# Creating the new population based on the parents and offspring.\n",
    "     new_population[0:parents.shape[0], :] = parents\n",
    "     new_population[parents.shape[0]:, :] = offspring_mutation\n",
    "     print(\"Best result : \", numpy.max(numpy.sum(new_population*equation_inputs, axis=1)))"
   ]
  },
  {
   "cell_type": "code",
   "execution_count": null,
   "metadata": {},
   "outputs": [],
   "source": [
    "# Getting the best solution after iterating finishing all generations.\n",
    "#At first, the fitness is calculated for each solution in the final generation.\n",
    "fitness = ga.cal_pop_fitness(equation_inputs, new_population)\n",
    "# Then return the index of that solution corresponding to the best fitness.\n",
    "best_match_idx = numpy.where(fitness == numpy.max(fitness))\n",
    "\n",
    "print(\"Best solution : \", new_population[best_match_idx, :])\n",
    "print(\"Best solution fitness : \", fitness[best_match_idx])"
   ]
  },
  {
   "cell_type": "code",
   "execution_count": null,
   "metadata": {},
   "outputs": [],
   "source": [
    "0"
   ]
  }
 ],
 "metadata": {
  "kernelspec": {
   "display_name": "Python 3",
   "language": "python",
   "name": "python3"
  },
  "language_info": {
   "codemirror_mode": {
    "name": "ipython",
    "version": 3
   },
   "file_extension": ".py",
   "mimetype": "text/x-python",
   "name": "python",
   "nbconvert_exporter": "python",
   "pygments_lexer": "ipython3",
   "version": "3.8.3"
  }
 },
 "nbformat": 4,
 "nbformat_minor": 4
}
