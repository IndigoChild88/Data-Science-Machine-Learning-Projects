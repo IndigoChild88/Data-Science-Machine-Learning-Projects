{
 "cells": [
  {
   "cell_type": "code",
   "execution_count": null,
   "metadata": {},
   "outputs": [],
   "source": [
    "from keras.models import Sequential\n",
    "from keras.layers import Dense, Activation\n",
    "import pandas as pd\n",
    "import numpy as np\n",
    "from sklearn.metrics import accuracy_score\n",
    "from sklearn.model_selection import train_test_split\n",
    "from sklearn.model_selection import train_test_split\n",
    "import qiskit\n",
    "from qiskit import BasicAer\n",
    "from qiskit.aqua import QuantumInstance\n",
    "from qiskit.aqua.algorithms import QSVM\n",
    "from qiskit.aqua.components.multiclass_extensions import one_against_rest, all_pairs\n",
    "from qiskit.aqua.components.feature_maps import SecondOrderExpansion\n",
    "from qiskit.aqua.input import ClassificationInput\n",
    "from qiskit.aqua import run_algorithm\n",
    "backend = BasicAer.get_backend('qasm_simulator')\n",
    "#For any classification problem you will want to set this to metrics=['accuracy']."
   ]
  },
  {
   "cell_type": "code",
   "execution_count": null,
   "metadata": {},
   "outputs": [],
   "source": [
    "from qiskit import IBMQ\n",
    "token = 'ADD_TOKEN_HERE'\n",
    "#IBMQ.enable_account(token)"
   ]
  },
  {
   "cell_type": "code",
   "execution_count": null,
   "metadata": {},
   "outputs": [],
   "source": [
    "\n",
    "#IBMQ.save_account(token,overwrite=True)\n",
    "provider = IBMQ.load_account()\n",
    "backend = IBMQ.backends(name='ibmqx5')\n"
   ]
  },
  {
   "cell_type": "code",
   "execution_count": null,
   "metadata": {},
   "outputs": [],
   "source": [
    "IBMQ.update_account()"
   ]
  },
  {
   "cell_type": "code",
   "execution_count": null,
   "metadata": {},
   "outputs": [],
   "source": [
    "my_provider = IBMQ.get_provider()\n",
    "backend = my_provider.get_backend('ibmq_qasm_simulator')\n",
    "#backend = IBMQ.get_backend(name, hub='HUB') #ibmqx4 #ibmq_16_melbourne"
   ]
  },
  {
   "cell_type": "code",
   "execution_count": null,
   "metadata": {},
   "outputs": [],
   "source": [
    "#IBMQ.load_account()\n",
    "#my_provider = IBMQ.get_provider()\n",
    "#backend = my_provider\n",
    "IBMQ.providers()\n"
   ]
  },
  {
   "cell_type": "code",
   "execution_count": null,
   "metadata": {},
   "outputs": [],
   "source": [
    "import qiskit\n",
    "backends = []\n",
    "def getBack():\n",
    "    for provider in IBMQ.providers():\n",
    "\n",
    "        for backend in provider.backends():\n",
    "\n",
    "            backends.append(backend)\n",
    "\n",
    "    unique_hardware_backends = []\n",
    "\n",
    "    unique_names = []\n",
    "\n",
    "    for back in backends:\n",
    "\n",
    "        if back.name() not in unique_names and not back.configuration().simulator:\n",
    "\n",
    "            unique_hardware_backends.append(back)\n",
    "\n",
    "            unique_names.append(back.name())\n",
    "\n",
    "    if not unique_hardware_backends:\n",
    "\n",
    "        print(\"Not available\")\n",
    "\n",
    "    return unique_hardware_backends\n",
    "getBack()"
   ]
  },
  {
   "cell_type": "code",
   "execution_count": null,
   "metadata": {},
   "outputs": [],
   "source": [
    "data_1_Bid = pd.read_csv(\"USDJPY_Long_Bid.csv\")\n",
    "data_1_Ask = pd.read_csv(\"USDJPY_Long_Ask.csv\")\n",
    "data = pd.DataFrame({\"AskClose\":data_1_Ask['Close'], \n",
    "                         \"BidClose\":data_1_Bid['Close']}) "
   ]
  },
  {
   "cell_type": "code",
   "execution_count": null,
   "metadata": {},
   "outputs": [],
   "source": [
    "#Used to prep data for classifiers, returns dataframe then array that contains lags\n",
    "def Prep(data, lag_num):\n",
    "    data = data.dropna()\n",
    "    df = pd.DataFrame(data[['AskClose', 'BidClose']].mean(axis=1), columns=['midclose'])\n",
    "    #print(data[:5]/data[:5].shift(1))\n",
    "    df['returns'] = np.log(df / df.shift(1))\n",
    "    lags = lag_num\n",
    "    cols = []\n",
    "    for lag in range(1, lags + 1):\n",
    "        col = 'lag_%s' % lag\n",
    "        df[col] = df['returns'].shift(lag)\n",
    "        cols.append(col)\n",
    "    \n",
    "    df = df.dropna()\n",
    "    return df, cols;"
   ]
  },
  {
   "cell_type": "code",
   "execution_count": null,
   "metadata": {},
   "outputs": [],
   "source": [
    "df_1, cols = Prep(data,4)\n",
    "print(df_1[cols])"
   ]
  },
  {
   "cell_type": "code",
   "execution_count": null,
   "metadata": {},
   "outputs": [],
   "source": [
    "train_x, test_x, train_y, test_y = train_test_split(df_1[cols][83100:].to_numpy(), df_1['returns'][83100:].to_numpy(), test_size=0.2)\n",
    "\n",
    "\n",
    "train_x = np.sign(train_x)\n",
    "test_x = np.sign(test_x)\n",
    "train_y = np.sign(train_y)\n",
    "test_y = np.sign(test_y)\n",
    "\n",
    "\n",
    "num_features = 4\n",
    "training_size = 1660\n",
    "test_size = 66640\n",
    "feature_map = SecondOrderExpansion(feature_dimension=num_features, depth=2)"
   ]
  },
  {
   "cell_type": "code",
   "execution_count": null,
   "metadata": {},
   "outputs": [],
   "source": [
    "params = {\n",
    "            'problem': {'name': 'classification'},\n",
    "            'algorithm': {\n",
    "                'name': 'QSVM',\n",
    "            },\n",
    "            'multiclass_extension': {'name': 'OneAgainstRest'},\n",
    "            'feature_map': {'name': 'SecondOrderExpansion', 'depth': 2 }\n",
    "}\n",
    " \n",
    "\n",
    "training_dataset={'Sell':train_x[train_y==-1],\n",
    "                'Nothing':train_x[train_y==0],\n",
    "                'Buy':train_x[train_y==1]}\n",
    "test_dataset={'Sell':test_x[test_y==-1],\n",
    "                        'Nothing':test_x[test_y==0],\n",
    "                        'Buy':test_x[test_y==1]}\n",
    "total_arr = np.concatenate((test_dataset['Sell'],test_dataset['Nothing'],test_dataset['Buy']))\n",
    "alg_input = ClassificationInput(training_dataset, test_dataset, total_arr)\n"
   ]
  },
  {
   "cell_type": "code",
   "execution_count": null,
   "metadata": {},
   "outputs": [],
   "source": [
    "%time result = run_algorithm(params, algo_input=alg_input, backend=backend)\n"
   ]
  },
  {
   "cell_type": "code",
   "execution_count": null,
   "metadata": {},
   "outputs": [],
   "source": [
    "q_instance = QuantumInstace(skip_qobj_validation=False)\n",
    "params = {\n",
    "            'problem': {'name': 'classification', 'random_seed': 794},\n",
    "            'algorithm': {\n",
    "                'name': 'QSVM',\n",
    "            },\n",
    "            'backend': {'shots': 1024},\n",
    "            'multiclass_extension': {'name': 'OneAgainstRest'},\n",
    "            #'feature_map': {'name': 'SecondOrderExpansion', 'depth': 2, 'entangler_map': [[0, 1]]}\n",
    "            'feature_map': {'name': 'SecondOrderExpansion', 'depth': 2}\n",
    "     \n",
    "        }"
   ]
  },
  {
   "cell_type": "code",
   "execution_count": null,
   "metadata": {},
   "outputs": [],
   "source": [
    "total_arr.shape"
   ]
  },
  {
   "cell_type": "code",
   "execution_count": null,
   "metadata": {},
   "outputs": [],
   "source": [
    "train_x.shape[1]"
   ]
  },
  {
   "cell_type": "code",
   "execution_count": null,
   "metadata": {},
   "outputs": [],
   "source": [
    "test_y.shape[1]"
   ]
  },
  {
   "cell_type": "code",
   "execution_count": null,
   "metadata": {},
   "outputs": [],
   "source": [
    "total_arr"
   ]
  },
  {
   "cell_type": "code",
   "execution_count": null,
   "metadata": {},
   "outputs": [],
   "source": [
    "test_dataset['B']"
   ]
  },
  {
   "cell_type": "code",
   "execution_count": null,
   "metadata": {},
   "outputs": [],
   "source": [
    "train_x[train_y]"
   ]
  },
  {
   "cell_type": "code",
   "execution_count": null,
   "metadata": {},
   "outputs": [],
   "source": [
    "train_y==-1"
   ]
  },
  {
   "cell_type": "code",
   "execution_count": null,
   "metadata": {},
   "outputs": [],
   "source": [
    "from qiskit import Aer\n",
    "for backend in Aer.backends():\n",
    "    print(backend.name())"
   ]
  },
  {
   "cell_type": "code",
   "execution_count": null,
   "metadata": {},
   "outputs": [],
   "source": []
  },
  {
   "cell_type": "code",
   "execution_count": null,
   "metadata": {},
   "outputs": [],
   "source": []
  }
 ],
 "metadata": {
  "kernelspec": {
   "display_name": "Python 3",
   "language": "python",
   "name": "python3"
  },
  "language_info": {
   "codemirror_mode": {
    "name": "ipython",
    "version": 3
   },
   "file_extension": ".py",
   "mimetype": "text/x-python",
   "name": "python",
   "nbconvert_exporter": "python",
   "pygments_lexer": "ipython3",
   "version": "3.8.3"
  }
 },
 "nbformat": 4,
 "nbformat_minor": 2
}
