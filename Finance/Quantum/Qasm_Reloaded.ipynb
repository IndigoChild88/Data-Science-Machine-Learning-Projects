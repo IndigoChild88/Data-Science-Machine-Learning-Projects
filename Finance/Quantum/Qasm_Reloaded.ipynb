{
 "cells": [
  {
   "cell_type": "code",
   "execution_count": null,
   "metadata": {},
   "outputs": [],
   "source": [
    "from sklearn.metrics import accuracy_score\n",
    "from sklearn.model_selection import train_test_split\n",
    "from sklearn.model_selection import train_test_split\n",
    "import pandas as pd\n",
    "import numpy as np\n",
    "import qiskit\n",
    "from qiskit import BasicAer\n",
    "from qiskit.aqua.input import ClassificationInput\n",
    "from qiskit.aqua import QuantumInstance, aqua_globals\n",
    "from qiskit.aqua.components.feature_maps import SecondOrderExpansion\n",
    "from qiskit.aqua.algorithms import QSVM\n",
    "from qiskit.aqua.components.multiclass_extensions import AllPairs\n",
    "from qiskit.aqua.utils.dataset_helper import get_feature_dimension\n",
    "from qiskit.aqua.algorithms.many_sample.qsvm._qsvm_estimator import _QSVM_Estimator"
   ]
  },
  {
   "cell_type": "code",
   "execution_count": null,
   "metadata": {},
   "outputs": [],
   "source": [
    "\"\"\"\n",
    "from qiskit import IBMQ\n",
    "token = 'ADD_TOKEN_HERE'\n",
    "#my_provider = IBMQ.get_provider()\n",
    "#backend = my_provider.get_backend('ibmq_qasm_simulator')\n",
    "\"\"\""
   ]
  },
  {
   "cell_type": "code",
   "execution_count": null,
   "metadata": {},
   "outputs": [],
   "source": [
    "\"\"\"\n",
    "provider = IBMQ.load_account()\n",
    "backend = provider.get_backend('ibmq_qasm_simulator')\n",
    "\"\"\""
   ]
  },
  {
   "cell_type": "code",
   "execution_count": null,
   "metadata": {},
   "outputs": [],
   "source": [
    "new_info = pd.read_csv(r\"C:\\Users\\Albert\\Documents\\NSBE\\ForexBot\\DemoFiles\\USD_JPY_h1_1000.csv\")\n",
    "new_info.head()"
   ]
  },
  {
   "cell_type": "code",
   "execution_count": null,
   "metadata": {},
   "outputs": [],
   "source": [
    "#data_1_Bid = pd.read_csv(\"USDJPY_Long_Bid.csv\")\n",
    "#data_1_Ask = pd.read_csv(\"USDJPY_Long_Ask.csv\")\n",
    "data = pd.DataFrame({\"AskClose\":new_info['askclose'], \n",
    "                         \"BidClose\":new_info['bidclose']})"
   ]
  },
  {
   "cell_type": "code",
   "execution_count": null,
   "metadata": {},
   "outputs": [],
   "source": [
    "#Used to prep data for classifiers, returns dataframe then array that contains lags\n",
    "def Prep(data, lag_num):\n",
    "    data = data.dropna()\n",
    "    df = pd.DataFrame(data[['AskClose', 'BidClose']].mean(axis=1), columns=['midclose'])\n",
    "    #print(data[:5]/data[:5].shift(1))\n",
    "    df['returns'] = np.log(df / df.shift(1))\n",
    "    lags = lag_num\n",
    "    cols = []\n",
    "    for lag in range(1, lags + 1):\n",
    "        col = 'lag_%s' % lag\n",
    "        df[col] = df['returns'].shift(lag)\n",
    "        cols.append(col)\n",
    "    \n",
    "    df = df.dropna()\n",
    "    return df, cols;"
   ]
  },
  {
   "cell_type": "code",
   "execution_count": null,
   "metadata": {},
   "outputs": [],
   "source": [
    "df_1, cols = Prep(data,5)\n",
    "df_1 = np.sign(df_1)\n",
    "df_1 = df_1.replace([-1], 2)\n",
    "print(df_1[cols])\n",
    "np.isin(2, df_1[cols])"
   ]
  },
  {
   "cell_type": "code",
   "execution_count": null,
   "metadata": {},
   "outputs": [],
   "source": [
    "train_x, test_x, train_y, test_y = train_test_split(df_1[cols][920:].to_numpy(), df_1['returns'][920:].to_numpy(), test_size=0.25)\n",
    "\n",
    "\n",
    "\"\"\"\n",
    "train_x = np.sign(train_x)\n",
    "test_x = np.sign(test_x)\n",
    "train_y = np.sign(train_y)\n",
    "test_y = np.sign(test_y)\"\"\"\n",
    "\n",
    "\n",
    "num_features = 3\n",
    "training_size = 1660\n",
    "test_size = 66640\n",
    "feature_map = SecondOrderExpansion(feature_dimension=num_features, depth=1)"
   ]
  },
  {
   "cell_type": "code",
   "execution_count": null,
   "metadata": {},
   "outputs": [],
   "source": [
    "params = {\n",
    "            'problem': {'name': 'classification'},\n",
    "            'algorithm': {\n",
    "                'name': 'QSVM',\n",
    "            },\n",
    "            'multiclass_extension': {'name': 'OneAgainstRest'},\n",
    "            'feature_map': {'name': 'SecondOrderExpansion', 'depth': 1}\n",
    "}\n",
    " \n",
    "\n",
    "training_dataset={'Sell':train_x[train_y==2],\n",
    "                #'Nothing':train_x[train_y==0],\n",
    "                'Buy':train_x[train_y==1]}\n",
    "test_dataset={'Sell':test_x[test_y==2],\n",
    "                      #  'Nothing':test_x[test_y==0],\n",
    "                        'Buy':test_x[test_y==1]}\n",
    "#total_arr = np.concatenate((test_dataset['Sell'],test_dataset['Nothing'],test_dataset['Buy']))\n",
    "total_arr = np.concatenate((test_dataset['Sell'],test_dataset['Buy']))\n",
    "alg_input = ClassificationInput(training_dataset, test_dataset, total_arr)"
   ]
  },
  {
   "cell_type": "code",
   "execution_count": null,
   "metadata": {},
   "outputs": [],
   "source": [
    "aqua_globals.random_seed = 1024\n",
    "\n",
    "backend = BasicAer.get_backend('qasm_simulator')\n",
    "feature_map = SecondOrderExpansion(feature_dimension=get_feature_dimension(training_dataset),\n",
    "                                   depth=1, entangler_map=[[0, 1]])\n",
    "svm = QSVM(feature_map, training_dataset,test_dataset, total_arr,\n",
    "          multiclass_extension=AllPairs(_QSVM_Estimator, [feature_map],\n",
    "                                       ))\n",
    "quantum_instance = QuantumInstance(backend, shots=1000,\n",
    "                                    seed_simulator=aqua_globals.random_seed,\n",
    "                                    seed_transpiler=aqua_globals.random_seed,\n",
    "                                  skip_qobj_validation=True,\n",
    "                                  wait = None)\n",
    "\n",
    "#\"\"\"\n",
    "result = svm.run(quantum_instance)\n",
    "for k,v in result.items():\n",
    "    print(\"'{}' : {}\".format(k, v))\n",
    "#\"\"\""
   ]
  },
  {
   "cell_type": "code",
   "execution_count": null,
   "metadata": {},
   "outputs": [],
   "source": [
    "#svm.train(train_x, train_y, quantum_instance)\n",
    "get_feature_dimension(training_dataset)"
   ]
  },
  {
   "cell_type": "code",
   "execution_count": null,
   "metadata": {},
   "outputs": [],
   "source": [
    "y_pred = svm.predict(test_x)\n",
    "print(accuracy_score(test_y, y_pred ) * 100, '%')\n",
    "print(y_pred)\n",
    "print(test_x)\n",
    "print(test_y)\n",
    "print( df_1['returns'][980:])"
   ]
  },
  {
   "cell_type": "code",
   "execution_count": null,
   "metadata": {},
   "outputs": [],
   "source": [
    "import pickle\n",
    "pickle.dump(svm, open('Quantum_model', 'wb'))"
   ]
  },
  {
   "cell_type": "code",
   "execution_count": null,
   "metadata": {},
   "outputs": [],
   "source": [
    "import pickle\n",
    "loaded_model = pickle.load(open('C:\\\\Users\\\\Albert\\\\Documents\\\\NSBE\\\\ForexBot\\\\Quantum\\\\models\\\\Quantum_model_3', 'rb'))\n",
    "y_pred = loaded_model.predict(test_x[:20])"
   ]
  },
  {
   "cell_type": "code",
   "execution_count": null,
   "metadata": {},
   "outputs": [],
   "source": [
    "print(accuracy_score(test_y[:20], y_pred ) * 100, '%')"
   ]
  },
  {
   "cell_type": "code",
   "execution_count": null,
   "metadata": {},
   "outputs": [],
   "source": [
    "#pred = svm.predict(test_x[len(test_x)-5:])"
   ]
  },
  {
   "cell_type": "code",
   "execution_count": null,
   "metadata": {},
   "outputs": [],
   "source": [
    "#print(test_y[len(test_y)-5:])\n",
    "#print(pred)"
   ]
  },
  {
   "cell_type": "code",
   "execution_count": null,
   "metadata": {},
   "outputs": [],
   "source": [
    "#test_x == test_y"
   ]
  },
  {
   "cell_type": "code",
   "execution_count": null,
   "metadata": {},
   "outputs": [],
   "source": [
    "#import os\n",
    "#os.path.abspath(os.getcwd())"
   ]
  },
  {
   "cell_type": "code",
   "execution_count": null,
   "metadata": {},
   "outputs": [],
   "source": [
    "#svm.save_model(\"C:\\\\Users\\\\Albert\\\\Documents\\\\NSBE\\\\Quantum_Model_85%\")"
   ]
  },
  {
   "cell_type": "code",
   "execution_count": null,
   "metadata": {},
   "outputs": [],
   "source": [
    "#np.isin(2, train_x)"
   ]
  },
  {
   "cell_type": "code",
   "execution_count": null,
   "metadata": {},
   "outputs": [],
   "source": [
    "#test_y"
   ]
  },
  {
   "cell_type": "code",
   "execution_count": null,
   "metadata": {},
   "outputs": [],
   "source": []
  }
 ],
 "metadata": {
  "kernelspec": {
   "display_name": "Python 3",
   "language": "python",
   "name": "python3"
  },
  "language_info": {
   "codemirror_mode": {
    "name": "ipython",
    "version": 3
   },
   "file_extension": ".py",
   "mimetype": "text/x-python",
   "name": "python",
   "nbconvert_exporter": "python",
   "pygments_lexer": "ipython3",
   "version": "3.8.3"
  }
 },
 "nbformat": 4,
 "nbformat_minor": 2
}
