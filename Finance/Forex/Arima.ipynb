{
 "cells": [
  {
   "cell_type": "code",
   "execution_count": null,
   "metadata": {},
   "outputs": [],
   "source": [
    "import pickle\n",
    "import sagemaker\n",
    "import boto3\n",
    "import os\n",
    "import fxcmpy\n",
    "import mxnet as mx\n",
    "import xgboost as xgb\n",
    "import tarfile\n",
    "import pickle"
   ]
  },
  {
   "cell_type": "code",
   "execution_count": null,
   "metadata": {},
   "outputs": [],
   "source": [
    "TOKEN = 'ADD_TOKEN_HERE'\n",
    "con = fxcmpy.fxcmpy(access_token=TOKEN, log_level='error')"
   ]
  },
  {
   "cell_type": "code",
   "execution_count": null,
   "metadata": {},
   "outputs": [],
   "source": [
    "new_data = con.get_candles('EUR/USD', period='H1',number=4000)"
   ]
  },
  {
   "cell_type": "code",
   "execution_count": null,
   "metadata": {},
   "outputs": [],
   "source": [
    "def create_lags_testing(dataset, lags_num):\n",
    "    #data = dataset.drop(columns = ['bidopen','bidclose', 'bidhigh', 'asklow'] )\n",
    "    data = dataset.drop(columns = ['askopen','askclose', 'askhigh', 'asklow'] )\n",
    "    cols = []\n",
    "    col = ''\n",
    "    #cols.append('tickqty')\n",
    "   #print(data.head())\n",
    "    for lag in range(1, lags_num):\n",
    "        #col = 'bidhigh_lag_%s' % lag\n",
    "        #cols.append(col)\n",
    "        #data[col] = data['bidopen'].shift(lag)\n",
    "        ##################################################\n",
    "        col = 'bidclose_15_%s' % lag\n",
    "        cols.append(col)\n",
    "        data[col] = data['bidclose'].shift(lag)\n",
    "        #data[col] = data['bidclose'].shift(lag + 121)\n",
    "        ##################################################\n",
    "       # col = 'tick_quant_lag_%s' % lag\n",
    "        #cols.append(col)\n",
    "        #data[col] = data['tickqty'].shift(lag)\n",
    "        \n",
    "    return data, cols"
   ]
  },
  {
   "cell_type": "code",
   "execution_count": null,
   "metadata": {},
   "outputs": [],
   "source": [
    "alt,columns = create_lags_testing(new_data,90)\n",
    "alt = alt.dropna()\n",
    "alt = alt.dropna()"
   ]
  },
  {
   "cell_type": "code",
   "execution_count": null,
   "metadata": {},
   "outputs": [],
   "source": [
    "#new_data2 = new_data.set_index('date', inplace=True, drop=True)\n",
    "print(new_data.index[:])"
   ]
  },
  {
   "cell_type": "code",
   "execution_count": null,
   "metadata": {},
   "outputs": [],
   "source": [
    "X = new_data['bidclose']\n",
    "y = alt.iloc[:, 1:2]\n",
    "X_train = X[:len(X)-30]\n",
    "X_test = X[len(X)-30:]\n",
    "y_train = y[:len(y)-30]\n",
    "y_test = y[len(y)-30:]"
   ]
  },
  {
   "cell_type": "code",
   "execution_count": null,
   "metadata": {},
   "outputs": [],
   "source": [
    "from pandas import read_csv\n",
    "from pandas import datetime\n",
    "from matplotlib import pyplot\n",
    "#import scikits.statsmodels.api as sm\n",
    "import statsmodels.api as sm\n",
    "from statsmodels.tsa.arima_model import ARIMA\n",
    "from sklearn.metrics import mean_squared_error\n",
    " \n",
    "def parser(x):\n",
    "\treturn datetime.strptime('190'+x, '%Y-%m')\n",
    " \n",
    "#series = read_csv('shampoo-sales.csv', header=0, parse_dates=[0], index_col=0, squeeze=True, date_parser=parser)\n",
    "#X = series.values\n",
    "#size = int(len(X) * 0.66)\n",
    "#train, test = X[0:size], X[size:len(X)]\n",
    "history = [x for x in X_train]\n",
    "#history =  new_data['bidclose']\n",
    "predictions = list()\n",
    "for t in range(len(X_test)):\n",
    "\tmodel = ARIMA(history, order=(5,1,2))\n",
    "\tmodel_fit = model.fit(disp=0)\n",
    "\toutput = model_fit.forecast()\n",
    "\tyhat = output[0]\n",
    "\tpredictions.append(yhat)\n",
    "\tobs = X_test[t]\n",
    "\thistory.append(obs)\n",
    "\tprint('predicted=%f, expected=%f' % (yhat, obs))\n",
    "error = mean_squared_error(X_test, predictions)\n",
    "print('Test MSE: %.3f' % error)\n",
    "# plot\n",
    "plt.axis()\n",
    "pyplot.plot(X_test.values)\n",
    "pyplot.plot(predictions, color='red')\n",
    "print(\"Test:\",len(X_test), \"Prediction:\", len(predictions))\n",
    "#pyplot.set_index(X_test.index[:], inplace=True, drop=True)\n",
    "pyplot.show()"
   ]
  },
  {
   "cell_type": "code",
   "execution_count": null,
   "metadata": {},
   "outputs": [],
   "source": [
    "%matplotlib inline\n",
    "import numpy as np\n",
    "from scipy import stats\n",
    "import pandas as pd\n",
    "import matplotlib.pyplot as plt\n",
    "\n",
    "import statsmodels.api as sm\n",
    "import statsmodels.api as sm\n",
    "from statsmodels.graphics.api import qqplot"
   ]
  },
  {
   "cell_type": "code",
   "execution_count": null,
   "metadata": {},
   "outputs": [],
   "source": [
    "history = [x for x in X]\n",
    "#history =  new_data['bidclose']\n",
    "predictions = list()\n",
    "for t in range(len(X_test)):\n",
    "\tmodel = ARIMA(history, order=(6,0,0))\n",
    "\tmodel_fit = model.fit(disp=0)\n",
    "\toutput = model_fit.forecast()\n",
    "\tyhat = output[0]\n",
    "\tpredictions.append(yhat)\n",
    "\t#obs = X_test[t]\n",
    "\thistory.append(yhat)\n",
    "\tprint('predicted=%f, expected=%f' % (yhat, obs))\n",
    "#error = mean_squared_error(X_test.values, predictions)\n",
    "print('Test MSE: %.3f' % error)\n",
    "# plot\n",
    "plt.axis()\n",
    "#pyplot.plot(X_test.values)\n",
    "pyplot.plot(predictions, color='red')\n",
    "#print(\"Test:\",len(X_test), \"Prediction:\", len(predictions))\n",
    "#pyplot.set_index(X_test.index[:], inplace=True, drop=True)\n",
    "pyplot.show()"
   ]
  },
  {
   "cell_type": "code",
   "execution_count": null,
   "metadata": {},
   "outputs": [],
   "source": [
    "model.predict(X_train, dynamic = True)[:5]"
   ]
  },
  {
   "cell_type": "code",
   "execution_count": null,
   "metadata": {},
   "outputs": [],
   "source": []
  }
 ],
 "metadata": {
  "kernelspec": {
   "display_name": "Python 3",
   "language": "python",
   "name": "python3"
  },
  "language_info": {
   "codemirror_mode": {
    "name": "ipython",
    "version": 3
   },
   "file_extension": ".py",
   "mimetype": "text/x-python",
   "name": "python",
   "nbconvert_exporter": "python",
   "pygments_lexer": "ipython3",
   "version": "3.8.3"
  }
 },
 "nbformat": 4,
 "nbformat_minor": 4
}
