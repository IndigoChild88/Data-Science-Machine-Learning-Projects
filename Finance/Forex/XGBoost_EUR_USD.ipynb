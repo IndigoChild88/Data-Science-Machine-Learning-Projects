{
 "cells": [
  {
   "cell_type": "code",
   "execution_count": 7,
   "metadata": {},
   "outputs": [],
   "source": [
    "import pickle\n",
    "import sagemaker\n",
    "import boto3\n",
    "import os\n",
    "import fxcmpy\n",
    "import mxnet as mx\n",
    "import xgboost as xgb\n",
    "file = open('xgboost_model', 'rb')\n",
    "xgb_model = pickle.loads(file.read())\n",
    "unzipped_model = 'xgboost_model'\n",
    " \n",
    "#model_xgb = xgb.Booster()\n",
    "#model_xgb.load_model(unzipped_model)"
   ]
  },
  {
   "cell_type": "code",
   "execution_count": 8,
   "metadata": {},
   "outputs": [],
   "source": [
    "TOKEN = 'ADD_TOKEN_HERE'\n",
    "con = fxcmpy.fxcmpy(access_token=TOKEN, log_level='error')"
   ]
  },
  {
   "cell_type": "code",
   "execution_count": 9,
   "metadata": {},
   "outputs": [],
   "source": [
    "new_data = con.get_candles('EUR/USD', period='H4', number=8000)"
   ]
  },
  {
   "cell_type": "code",
   "execution_count": 10,
   "metadata": {},
   "outputs": [],
   "source": [
    "new_data.to_csv('EUR_USD_H4_10L.csv')"
   ]
  },
  {
   "cell_type": "code",
   "execution_count": 11,
   "metadata": {},
   "outputs": [],
   "source": [
    "def create_lags_testing(dataset, lags_num):\n",
    "    data = dataset.drop(columns = ['askopen','askclose', 'askhigh', 'asklow'] )\n",
    "    cols = []\n",
    "    col = ''\n",
    "    #cols.append('tickqty')\n",
    "   #print(data.head())\n",
    "    for lag in range(1, lags_num):\n",
    "       # col = 'bidopen_lag_%s' % lag\n",
    "        #cols.append(col)\n",
    "        #data[col] = data['bidopen'].shift(lag)\n",
    "        ##################################################\n",
    "        col = 'bidclose_lag_%s' % lag\n",
    "        cols.append(col)\n",
    "        data[col] = data['bidclose'].shift(lag)\n",
    "        ##################################################\n",
    "        col = 'tick_quant_lag_%s' % lag\n",
    "        cols.append(col)\n",
    "        data[col] = data['tickqty'].shift(lag)\n",
    "        \n",
    "    return data, cols"
   ]
  },
  {
   "cell_type": "code",
   "execution_count": null,
   "metadata": {},
   "outputs": [],
   "source": []
  },
  {
   "cell_type": "code",
   "execution_count": 12,
   "metadata": {},
   "outputs": [],
   "source": [
    "alt,columns = create_lags_testing(new_data,11)\n",
    "alt = alt.dropna()"
   ]
  },
  {
   "cell_type": "code",
   "execution_count": 13,
   "metadata": {},
   "outputs": [],
   "source": [
    "alt.to_csv('EUR_USD_H4_10L.csv')"
   ]
  },
  {
   "cell_type": "code",
   "execution_count": null,
   "metadata": {},
   "outputs": [],
   "source": [
    "X = alt.iloc[:, 5:]\n",
    "y = alt.iloc[:, 0:2]\n",
    "X_train = X[:len(X)-30]\n",
    "X_test = X[len(X)-30:]\n",
    "y_train = y[:len(y)-30]\n",
    "y_test = y[len(y)-30:]"
   ]
  },
  {
   "cell_type": "code",
   "execution_count": null,
   "metadata": {},
   "outputs": [],
   "source": [
    "alt.tail()"
   ]
  },
  {
   "cell_type": "code",
   "execution_count": null,
   "metadata": {},
   "outputs": [],
   "source": [
    "X.head()"
   ]
  },
  {
   "cell_type": "code",
   "execution_count": null,
   "metadata": {},
   "outputs": [],
   "source": [
    "import xgboost as xgb\n",
    "data_input = xgb.DMatrix(alt.iloc[:, 5:].values)\n",
    "predictions = xgb_model.predict(data_input)"
   ]
  },
  {
   "cell_type": "code",
   "execution_count": null,
   "metadata": {},
   "outputs": [],
   "source": [
    "predictions"
   ]
  }
 ],
 "metadata": {
  "kernelspec": {
   "display_name": "Python 3",
   "language": "python",
   "name": "python3"
  },
  "language_info": {
   "codemirror_mode": {
    "name": "ipython",
    "version": 3
   },
   "file_extension": ".py",
   "mimetype": "text/x-python",
   "name": "python",
   "nbconvert_exporter": "python",
   "pygments_lexer": "ipython3",
   "version": "3.8.3"
  }
 },
 "nbformat": 4,
 "nbformat_minor": 4
}
