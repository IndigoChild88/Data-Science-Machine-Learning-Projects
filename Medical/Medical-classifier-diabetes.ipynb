{
 "cells": [
  {
   "cell_type": "code",
   "execution_count": 1,
   "id": "74f2f71b",
   "metadata": {},
   "outputs": [],
   "source": [
    "import sklearn as sk\n",
    "import pandas as pd\n",
    "#Info for SKlearn algos \n",
    "#https://stackabuse.com/classification-in-python-with-scikit-learn-and-pandas/\n",
    "#Info for XGBoost\n",
    "#https://www.analyticsvidhya.com/blog/2021/07/15-most-important-features-of-scikit-learn/#:~:text=Scikit-Learn%20provides%20the%20functionality%20to%20convert%20text%20and,will%20explore%20in%20your%20journey%20of%20data%20science.\n",
    "#LabelEncoder\n",
    "#https://stackoverflow.com/questions/34915813/convert-text-columns-into-numbers-in-sklearn"
   ]
  },
  {
   "cell_type": "code",
   "execution_count": 2,
   "id": "c29214ca",
   "metadata": {},
   "outputs": [],
   "source": [
    "filename = \"diabetes_binary_5050split_health_indicators_BRFSS2015.csv\""
   ]
  },
  {
   "cell_type": "code",
   "execution_count": 3,
   "id": "9712eee3",
   "metadata": {},
   "outputs": [],
   "source": [
    "data = pd.read_csv(filename) \n"
   ]
  },
  {
   "cell_type": "code",
   "execution_count": 4,
   "id": "07dbd063",
   "metadata": {},
   "outputs": [
    {
     "data": {
      "text/html": [
       "<div>\n",
       "<style scoped>\n",
       "    .dataframe tbody tr th:only-of-type {\n",
       "        vertical-align: middle;\n",
       "    }\n",
       "\n",
       "    .dataframe tbody tr th {\n",
       "        vertical-align: top;\n",
       "    }\n",
       "\n",
       "    .dataframe thead th {\n",
       "        text-align: right;\n",
       "    }\n",
       "</style>\n",
       "<table border=\"1\" class=\"dataframe\">\n",
       "  <thead>\n",
       "    <tr style=\"text-align: right;\">\n",
       "      <th></th>\n",
       "      <th>Diabetes_binary</th>\n",
       "      <th>HighBP</th>\n",
       "      <th>HighChol</th>\n",
       "      <th>CholCheck</th>\n",
       "      <th>BMI</th>\n",
       "      <th>Smoker</th>\n",
       "      <th>Stroke</th>\n",
       "      <th>HeartDiseaseorAttack</th>\n",
       "      <th>PhysActivity</th>\n",
       "      <th>Fruits</th>\n",
       "      <th>...</th>\n",
       "      <th>AnyHealthcare</th>\n",
       "      <th>NoDocbcCost</th>\n",
       "      <th>GenHlth</th>\n",
       "      <th>MentHlth</th>\n",
       "      <th>PhysHlth</th>\n",
       "      <th>DiffWalk</th>\n",
       "      <th>Sex</th>\n",
       "      <th>Age</th>\n",
       "      <th>Education</th>\n",
       "      <th>Income</th>\n",
       "    </tr>\n",
       "  </thead>\n",
       "  <tbody>\n",
       "    <tr>\n",
       "      <th>56039</th>\n",
       "      <td>1</td>\n",
       "      <td>0</td>\n",
       "      <td>1</td>\n",
       "      <td>1</td>\n",
       "      <td>20</td>\n",
       "      <td>0</td>\n",
       "      <td>0</td>\n",
       "      <td>0</td>\n",
       "      <td>1</td>\n",
       "      <td>0</td>\n",
       "      <td>...</td>\n",
       "      <td>1</td>\n",
       "      <td>1</td>\n",
       "      <td>3</td>\n",
       "      <td>30</td>\n",
       "      <td>15</td>\n",
       "      <td>0</td>\n",
       "      <td>0</td>\n",
       "      <td>6</td>\n",
       "      <td>5</td>\n",
       "      <td>7</td>\n",
       "    </tr>\n",
       "    <tr>\n",
       "      <th>57885</th>\n",
       "      <td>1</td>\n",
       "      <td>0</td>\n",
       "      <td>1</td>\n",
       "      <td>1</td>\n",
       "      <td>37</td>\n",
       "      <td>1</td>\n",
       "      <td>0</td>\n",
       "      <td>0</td>\n",
       "      <td>0</td>\n",
       "      <td>0</td>\n",
       "      <td>...</td>\n",
       "      <td>1</td>\n",
       "      <td>0</td>\n",
       "      <td>3</td>\n",
       "      <td>5</td>\n",
       "      <td>2</td>\n",
       "      <td>1</td>\n",
       "      <td>0</td>\n",
       "      <td>4</td>\n",
       "      <td>4</td>\n",
       "      <td>6</td>\n",
       "    </tr>\n",
       "    <tr>\n",
       "      <th>67346</th>\n",
       "      <td>1</td>\n",
       "      <td>0</td>\n",
       "      <td>0</td>\n",
       "      <td>1</td>\n",
       "      <td>27</td>\n",
       "      <td>1</td>\n",
       "      <td>0</td>\n",
       "      <td>0</td>\n",
       "      <td>1</td>\n",
       "      <td>1</td>\n",
       "      <td>...</td>\n",
       "      <td>1</td>\n",
       "      <td>0</td>\n",
       "      <td>4</td>\n",
       "      <td>30</td>\n",
       "      <td>10</td>\n",
       "      <td>0</td>\n",
       "      <td>1</td>\n",
       "      <td>11</td>\n",
       "      <td>3</td>\n",
       "      <td>4</td>\n",
       "    </tr>\n",
       "    <tr>\n",
       "      <th>5335</th>\n",
       "      <td>0</td>\n",
       "      <td>1</td>\n",
       "      <td>1</td>\n",
       "      <td>1</td>\n",
       "      <td>19</td>\n",
       "      <td>1</td>\n",
       "      <td>0</td>\n",
       "      <td>0</td>\n",
       "      <td>0</td>\n",
       "      <td>0</td>\n",
       "      <td>...</td>\n",
       "      <td>0</td>\n",
       "      <td>0</td>\n",
       "      <td>2</td>\n",
       "      <td>0</td>\n",
       "      <td>0</td>\n",
       "      <td>0</td>\n",
       "      <td>0</td>\n",
       "      <td>8</td>\n",
       "      <td>2</td>\n",
       "      <td>2</td>\n",
       "    </tr>\n",
       "    <tr>\n",
       "      <th>34240</th>\n",
       "      <td>0</td>\n",
       "      <td>0</td>\n",
       "      <td>0</td>\n",
       "      <td>1</td>\n",
       "      <td>8</td>\n",
       "      <td>0</td>\n",
       "      <td>0</td>\n",
       "      <td>0</td>\n",
       "      <td>1</td>\n",
       "      <td>0</td>\n",
       "      <td>...</td>\n",
       "      <td>1</td>\n",
       "      <td>0</td>\n",
       "      <td>1</td>\n",
       "      <td>0</td>\n",
       "      <td>0</td>\n",
       "      <td>0</td>\n",
       "      <td>0</td>\n",
       "      <td>2</td>\n",
       "      <td>5</td>\n",
       "      <td>7</td>\n",
       "    </tr>\n",
       "  </tbody>\n",
       "</table>\n",
       "<p>5 rows × 22 columns</p>\n",
       "</div>"
      ],
      "text/plain": [
       "       Diabetes_binary  HighBP  HighChol  CholCheck  BMI  Smoker  Stroke  \\\n",
       "56039                1       0         1          1   20       0       0   \n",
       "57885                1       0         1          1   37       1       0   \n",
       "67346                1       0         0          1   27       1       0   \n",
       "5335                 0       1         1          1   19       1       0   \n",
       "34240                0       0         0          1    8       0       0   \n",
       "\n",
       "       HeartDiseaseorAttack  PhysActivity  Fruits  ...  AnyHealthcare  \\\n",
       "56039                     0             1       0  ...              1   \n",
       "57885                     0             0       0  ...              1   \n",
       "67346                     0             1       1  ...              1   \n",
       "5335                      0             0       0  ...              0   \n",
       "34240                     0             1       0  ...              1   \n",
       "\n",
       "       NoDocbcCost  GenHlth  MentHlth  PhysHlth  DiffWalk  Sex  Age  \\\n",
       "56039            1        3        30        15         0    0    6   \n",
       "57885            0        3         5         2         1    0    4   \n",
       "67346            0        4        30        10         0    1   11   \n",
       "5335             0        2         0         0         0    0    8   \n",
       "34240            0        1         0         0         0    0    2   \n",
       "\n",
       "       Education  Income  \n",
       "56039          5       7  \n",
       "57885          4       6  \n",
       "67346          3       4  \n",
       "5335           2       2  \n",
       "34240          5       7  \n",
       "\n",
       "[5 rows x 22 columns]"
      ]
     },
     "execution_count": 4,
     "metadata": {},
     "output_type": "execute_result"
    }
   ],
   "source": [
    "from sklearn.preprocessing import LabelEncoder\n",
    "from sklearn.utils import shuffle\n",
    "\n",
    "le = LabelEncoder()\n",
    "data = data[data.columns[:]].apply(le.fit_transform)\n",
    "#shuffling dataset since it is 50-50 even\n",
    "data = shuffle(data)\n",
    "data.head()\n"
   ]
  },
  {
   "cell_type": "code",
   "execution_count": 5,
   "id": "a8f64992",
   "metadata": {},
   "outputs": [],
   "source": [
    "data_train = data[:int(len(data)*0.80)]\n",
    "\n",
    "data_test = data[int(len(data)*0.80):]"
   ]
  },
  {
   "cell_type": "code",
   "execution_count": 6,
   "id": "0cebf631",
   "metadata": {},
   "outputs": [],
   "source": [
    "#training dataset\n",
    "x_train =  data_train.iloc[:,1:]\n",
    "y_train = data_train.iloc[:, 0]\n",
    "\n",
    "#Test dataset\n",
    "x_test =  data_test.iloc[:,1:]\n",
    "y_test = data_test.iloc[:, 0]"
   ]
  },
  {
   "cell_type": "code",
   "execution_count": 7,
   "id": "c2f627d1",
   "metadata": {},
   "outputs": [
    {
     "data": {
      "text/plain": [
       "56039    1\n",
       "57885    1\n",
       "67346    1\n",
       "5335     0\n",
       "34240    0\n",
       "Name: Diabetes_binary, dtype: int64"
      ]
     },
     "execution_count": 7,
     "metadata": {},
     "output_type": "execute_result"
    }
   ],
   "source": [
    "y_train.head()"
   ]
  },
  {
   "cell_type": "code",
   "execution_count": 8,
   "id": "897e3e94",
   "metadata": {},
   "outputs": [
    {
     "data": {
      "text/plain": [
       "0.7485"
      ]
     },
     "execution_count": 8,
     "metadata": {},
     "output_type": "execute_result"
    }
   ],
   "source": [
    "from sklearn.ensemble import RandomForestClassifier\n",
    "\n",
    "RF = RandomForestClassifier(n_estimators=150, max_depth=10, random_state=0)\n",
    "RF.fit(x_train, y_train)\n",
    "#RF.predict(.iloc[460:,:])\n",
    "round(RF.score(x_test,y_test), 4)"
   ]
  },
  {
   "cell_type": "code",
   "execution_count": 9,
   "id": "59a1ffb2",
   "metadata": {},
   "outputs": [
    {
     "name": "stdout",
     "output_type": "stream",
     "text": [
      "Fitting 5 folds for each of 252 candidates, totalling 1260 fits\n"
     ]
    },
    {
     "name": "stderr",
     "output_type": "stream",
     "text": [
      "C:\\Users\\Albert\\anaconda3\\envs\\Machine learning projects\\lib\\site-packages\\xgboost\\sklearn.py:1224: UserWarning: The use of label encoder in XGBClassifier is deprecated and will be removed in a future release. To remove this warning, do the following: 1) Pass option use_label_encoder=False when constructing XGBClassifier object; and 2) Encode your labels (y) as integers starting with 0, i.e. 0, 1, 2, ..., [num_class - 1].\n",
      "  warnings.warn(label_encoder_deprecation_msg, UserWarning)\n"
     ]
    },
    {
     "name": "stdout",
     "output_type": "stream",
     "text": [
      "[00:34:11] WARNING: C:/Users/Administrator/workspace/xgboost-win64_release_1.5.0/src/learner.cc:576: \n",
      "Parameters: { \"silent\" } might not be used.\n",
      "\n",
      "  This could be a false alarm, with some parameters getting used by language bindings but\n",
      "  then being mistakenly passed down to XGBoost core, or some parameter actually being used\n",
      "  but getting flagged wrongly here. Please open an issue if you find any such cases.\n",
      "\n",
      "\n",
      "[00:34:11] WARNING: C:/Users/Administrator/workspace/xgboost-win64_release_1.5.0/src/learner.cc:1115: Starting in XGBoost 1.3.0, the default evaluation metric used with the objective 'binary:logistic' was changed from 'error' to 'logloss'. Explicitly set eval_metric if you'd like to restore the old behavior.\n"
     ]
    },
    {
     "data": {
      "text/plain": [
       "0.829"
      ]
     },
     "execution_count": 9,
     "metadata": {},
     "output_type": "execute_result"
    }
   ],
   "source": [
    "from xgboost import XGBClassifier\n",
    "from sklearn.model_selection import GridSearchCV\n",
    "#from sklearn.metrics import mean_squared_error\n",
    "#xgb = XGBClassifier(colsample_bytree = 0.03, learning_rate = 0.01,max_depth = 20, alpha = 8, n_estimators = 500)\n",
    "xgb = XGBClassifier()\n",
    "parameters = {'nthread':[4], #when use hyperthread, xgboost may become slower\n",
    "              'objective':['binary:logistic'],\n",
    "              'learning_rate': [0.01,0.03,0.05], #so called `eta` value\n",
    "              'max_depth': [6,7,8,9,11,12,13],\n",
    "              'min_child_weight': [11],\n",
    "              'silent': [1],\n",
    "              'subsample': [0.8],\n",
    "              'colsample_bytree': [0.3,0.5,0.7],\n",
    "              'n_estimators': [5,50,100,300], #number of trees, change it to 1000 for better results\n",
    "              'missing':[-999],\n",
    "              'seed': [1337]}\n",
    "\n",
    "\n",
    "clf = GridSearchCV(xgb, parameters, n_jobs=10, \n",
    "                    cv=5,\n",
    "                   scoring='roc_auc',\n",
    "                   verbose=2, refit=True)\n",
    "clf.fit(x_train,y_train)\n",
    "#y_pred=xgb.predict(x_test)\n",
    "round(clf.score(x_test,y_test), 4)"
   ]
  },
  {
   "cell_type": "code",
   "execution_count": 12,
   "id": "a9111b32",
   "metadata": {},
   "outputs": [],
   "source": [
    "#best_parameters, score, _ = max(clf.cv_results_, key=lambda x: x[1])\n",
    "#print('Raw AUC score:', score)\n",
    "#for param_name in sorted(best_parameters.keys()):\n",
    "    #print(\"%s: %r\" % (param_name, best_parameters[param_name]))"
   ]
  },
  {
   "cell_type": "code",
   "execution_count": 13,
   "id": "90cd1b3c",
   "metadata": {},
   "outputs": [
    {
     "data": {
      "text/plain": [
       "0.8459"
      ]
     },
     "execution_count": 13,
     "metadata": {},
     "output_type": "execute_result"
    }
   ],
   "source": [
    "round(clf.score(x_train,y_train), 4)"
   ]
  },
  {
   "cell_type": "code",
   "execution_count": null,
   "id": "613ec2db",
   "metadata": {},
   "outputs": [],
   "source": []
  }
 ],
 "metadata": {
  "kernelspec": {
   "display_name": "Python 3 (ipykernel)",
   "language": "python",
   "name": "python3"
  },
  "language_info": {
   "codemirror_mode": {
    "name": "ipython",
    "version": 3
   },
   "file_extension": ".py",
   "mimetype": "text/x-python",
   "name": "python",
   "nbconvert_exporter": "python",
   "pygments_lexer": "ipython3",
   "version": "3.7.12"
  }
 },
 "nbformat": 4,
 "nbformat_minor": 5
}
